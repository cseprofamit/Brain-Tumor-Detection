{
  "cells": [
    {
      "cell_type": "code",
      "execution_count": null,
      "metadata": {
        "id": "FdrAeLjWTBDa"
      },
      "outputs": [],
      "source": [
        "import os\n",
        "os.environ[\"KAGGLE_CONFIG_DIR\"]= \"/content\""
      ]
    },
    {
      "cell_type": "code",
      "execution_count": null,
      "metadata": {
        "id": "4mXMzqM4xfqW"
      },
      "outputs": [],
      "source": [
        "from google.colab import drive\n",
        "drive.mount('/content/drive')"
      ]
    },
    {
      "cell_type": "code",
      "execution_count": null,
      "metadata": {
        "colab": {
          "base_uri": "https://localhost:8080/"
        },
        "id": "2LOxft6XX-Gp",
        "outputId": "bb1179d5-2188-4e5a-908c-081dcc9a490c"
      },
      "outputs": [],
      "source": [
        "!kaggle datasets download -d navoneel/brain-mri-images-for-brain-tumor-detection"
      ]
    },
    {
      "cell_type": "code",
      "execution_count": null,
      "metadata": {
        "colab": {
          "base_uri": "https://localhost:8080/"
        },
        "id": "7wpHgjHBYFi9",
        "outputId": "898c5fe1-4e0f-4fb6-c187-f9827126888f"
      },
      "outputs": [],
      "source": [
        "!unzip \\*.zip && rm *.zip"
      ]
    },
    {
      "cell_type": "code",
      "execution_count": null,
      "metadata": {
        "id": "cEgp_yCeYIET"
      },
      "outputs": [],
      "source": [
        "import warnings\n",
        "warnings.filterwarnings('ignore')\n",
        "import numpy as np\n",
        "import matplotlib.pyplot as plt\n",
        "import os\n",
        "import math\n",
        "import shutil\n",
        "import glob\n",
        "import cv2\n",
        "import imutils\n",
        "import seaborn as sns\n",
        "from sklearn.utils import shuffle\n",
        "from keras.preprocessing.image import ImageDataGenerator\n",
        "from keras.layers import Conv2D, MaxPool2D, Dropout, Flatten, Dense, BatchNormalization, GlobalAveragePooling2D\n",
        "from keras.models import Model, Sequential\n",
        "import keras\n",
        "from PIL import Image"
      ]
    },
    {
      "cell_type": "code",
      "execution_count": null,
      "metadata": {
        "colab": {
          "base_uri": "https://localhost:8080/"
        },
        "id": "lQf7EDLHYKOi",
        "outputId": "fb0f1a3c-9524-4849-e62a-b7b60b117b3d"
      },
      "outputs": [],
      "source": [
        "#Count images in the two folders: yes (Tumor) and no (Healthey)\n",
        "root =  '/content/brain_tumor_dataset'\n",
        "dict_img = {}\n",
        "for dir in os.listdir(root):\n",
        "  dict_img[dir] = len(os.listdir(os.path.join(root, dir)))\n",
        "dict_img\n"
      ]
    },
    {
      "cell_type": "code",
      "execution_count": null,
      "metadata": {
        "colab": {
          "base_uri": "https://localhost:8080/",
          "height": 853
        },
        "id": "O6j6zAPXYL_v",
        "outputId": "0a7452e0-be44-4b3b-ff42-bf9153516a97"
      },
      "outputs": [],
      "source": [
        "# Define paths to the 'yes' and 'no' folders containing MRI images\n",
        "yes_path = 'yes'\n",
        "no_path = 'no'\n",
        "\n",
        "# Plot some MRI images\n",
        "plt.figure(figsize=(10, 10))\n",
        "\n",
        "# Plot the first 'yes' image\n",
        "img_path = os.path.join(yes_path, os.listdir(yes_path)[0])\n",
        "img = Image.open(img_path)\n",
        "plt.subplot(2, 2, 1)\n",
        "plt.imshow(img)\n",
        "plt.title('yes')\n",
        "\n",
        "# Plot the second 'yes' image\n",
        "img_path = os.path.join(yes_path, os.listdir(yes_path)[1])\n",
        "img = Image.open(img_path)\n",
        "plt.subplot(2, 2, 2)\n",
        "plt.imshow(img)\n",
        "plt.title('yes')\n",
        "\n",
        "# Plot the first 'no' image\n",
        "img_path = os.path.join(no_path, os.listdir(no_path)[0])\n",
        "img = Image.open(img_path)\n",
        "plt.subplot(2, 2, 3)\n",
        "plt.imshow(img)\n",
        "plt.title('no')\n",
        "\n",
        "# Plot the second 'no' image\n",
        "img_path = os.path.join(no_path, os.listdir(no_path)[1])\n",
        "img = Image.open(img_path)\n",
        "plt.subplot(2, 2, 4)\n",
        "plt.imshow(img)\n",
        "plt.title('no')\n",
        "\n",
        "plt.show()\n"
      ]
    },
    {
      "cell_type": "code",
      "execution_count": null,
      "metadata": {
        "id": "GQxIoLivYO53"
      },
      "outputs": [],
      "source": [
        "#Define a function for image augmentation\n",
        "def augment_data(file_dir, n_generated_samples, save_to_dir):\n",
        "    data_gen = ImageDataGenerator(rotation_range=10,\n",
        "                                  width_shift_range=0.1,\n",
        "                                  height_shift_range=0.1,\n",
        "                                  shear_range=0.1,\n",
        "                                  brightness_range=(0.3, 1.0),\n",
        "                                  horizontal_flip=True,\n",
        "                                  vertical_flip=True,\n",
        "                                  fill_mode='nearest',\n",
        "                                  rescale= 1/255\n",
        "                                 )\n",
        "\n",
        "    for filename in os.listdir(file_dir):\n",
        "        image = cv2.imread(file_dir + '/' + filename)\n",
        "        # reshape the image\n",
        "        image = image.reshape((1,)+image.shape)\n",
        "        save_prefix = 'aug_' + filename[:-4]\n",
        "        i=0\n",
        "        for batch in data_gen.flow(x=image, batch_size=1, save_to_dir=save_to_dir,save_prefix=save_prefix, save_format='jpg'):\n",
        "                i += 1\n",
        "                if i > n_generated_samples:\n",
        "                    break"
      ]
    },
    {
      "cell_type": "code",
      "execution_count": null,
      "metadata": {
        "colab": {
          "base_uri": "https://localhost:8080/"
        },
        "id": "av2i0lYUYSBd",
        "outputId": "eef6fe6a-a115-4500-d1a8-6e44d0d97c0c"
      },
      "outputs": [],
      "source": [
        "#Create augmented images folders\n",
        "#L = ['aug_train', 'aug_test', 'aug_val']\n",
        "name = 'aug_data'\n",
        "if not os.path.exists(\"./\"+name):\n",
        "  os.mkdir(\"./\"+name)\n",
        "  for dir in os.listdir(root):\n",
        "    os.makedirs(\"./\"+name+\"/\"+dir)\n",
        "else:\n",
        "  print(f\"{name} Already exists\")"
      ]
    },
    {
      "cell_type": "code",
      "execution_count": null,
      "metadata": {
        "id": "7tvv_ie0YTub"
      },
      "outputs": [],
      "source": [
        "#Augment data for the examples with the label 'yes' in the training set\n",
        "augment_data(file_dir='./brain_tumor_dataset/yes',n_generated_samples=8, save_to_dir='./aug_data/yes')\n",
        "#Augment data for the examples with the label 'no' in the training set\n",
        "augment_data(file_dir='./brain_tumor_dataset/no', n_generated_samples=12, save_to_dir='./aug_data/no')"
      ]
    },
    {
      "cell_type": "code",
      "execution_count": null,
      "metadata": {
        "colab": {
          "base_uri": "https://localhost:8080/"
        },
        "id": "nRU1qcEeYV1g",
        "outputId": "8af0c4a9-02c2-4380-f035-ebacf0efa182"
      },
      "outputs": [],
      "source": [
        "#Count images in the two folders: yes (Tumor) and no (Healthy) in the folder of augmented images\n",
        "root =  '/content/aug_data'\n",
        "dict_img = {}\n",
        "for dir in os.listdir(root):\n",
        "  dict_img[dir] = len(os.listdir(os.path.join(root, dir)))\n",
        "dict_img"
      ]
    },
    {
      "cell_type": "code",
      "execution_count": null,
      "metadata": {
        "id": "U6XlDQWEYV-E"
      },
      "outputs": [],
      "source": [
        "#Define a function that creates new folders for the train, test and val sets and append random pictures to them based on the split percentage\n",
        "def create_folders(name, perc):\n",
        "  if not os.path.exists(\"./\"+name):\n",
        "    os.mkdir(\"./\"+name)\n",
        "    for dir in os.listdir(root):\n",
        "      os.makedirs(\"./\"+name+\"/\"+dir)\n",
        "      for img in np.random.choice(a=os.listdir(os.path.join(root, dir)), size=(math.floor(perc*dict_img[dir])), replace=False):\n",
        "        Src = os.path.join(root, dir, img)\n",
        "        Dest = os.path.join(\"./\"+name, dir)\n",
        "        shutil.copy(Src, Dest)\n",
        "        os.remove(Src)\n",
        "  else:\n",
        "    print(f\"{name} Already exists\")"
      ]
    },
    {
      "cell_type": "code",
      "execution_count": null,
      "metadata": {
        "id": "NSki4viDYYXu"
      },
      "outputs": [],
      "source": [
        "#Create the training set\n",
        "create_folders('train', 0.7)"
      ]
    },
    {
      "cell_type": "code",
      "execution_count": null,
      "metadata": {
        "id": "BFUr7EDyYZ54"
      },
      "outputs": [],
      "source": [
        "#Create the test set\n",
        "create_folders('test', 0.15)"
      ]
    },
    {
      "cell_type": "code",
      "execution_count": null,
      "metadata": {
        "id": "9lJy4-umYbUB"
      },
      "outputs": [],
      "source": [
        "#Create the validation set\n",
        "create_folders('val', 0.15)"
      ]
    },
    {
      "cell_type": "code",
      "execution_count": null,
      "metadata": {
        "id": "yYUGCCG8Yczn"
      },
      "outputs": [],
      "source": [
        "#Define a function that counts images in the folders: yes (Tumor) and no (Healthey)\n",
        "def count_img(folder):\n",
        "  dict_img = {}\n",
        "  for dir in os.listdir(folder):\n",
        "    dict_img[dir] = len(os.listdir(os.path.join(folder, dir)))\n",
        "  return dict_img"
      ]
    },
    {
      "cell_type": "code",
      "execution_count": null,
      "metadata": {
        "colab": {
          "base_uri": "https://localhost:8080/"
        },
        "id": "QP6WUvzAYeky",
        "outputId": "7eee9ba3-f5a0-49c1-a055-737121c0ad18"
      },
      "outputs": [],
      "source": [
        "#Count images in the training set\n",
        "count_img('train')"
      ]
    },
    {
      "cell_type": "code",
      "execution_count": null,
      "metadata": {
        "colab": {
          "base_uri": "https://localhost:8080/"
        },
        "id": "MtQHkNKmYgHb",
        "outputId": "b09fa206-5135-45df-e990-add6a94df936"
      },
      "outputs": [],
      "source": [
        "#Count images in the test set\n",
        "count_img('test')\n"
      ]
    },
    {
      "cell_type": "code",
      "execution_count": null,
      "metadata": {
        "colab": {
          "base_uri": "https://localhost:8080/"
        },
        "id": "Zyc6f5XHYh9n",
        "outputId": "53d05467-7f3e-4385-d864-67b943f72e71"
      },
      "outputs": [],
      "source": [
        "#Count images in the validation set\n",
        "count_img('val')"
      ]
    },
    {
      "cell_type": "code",
      "execution_count": null,
      "metadata": {
        "id": "UQlE_waAYjjE"
      },
      "outputs": [],
      "source": [
        "#Define a function that crop tha brain contour\n",
        "def crop_brain_contour(image, plot=False):\n",
        "\n",
        "    #Convert the image to grayscale, and blur it slightly\n",
        "    gray = cv2.cvtColor(image, cv2.COLOR_BGR2GRAY)\n",
        "    gray = cv2.GaussianBlur(gray, (5, 5), 0)\n",
        "\n",
        "    thresh = cv2.threshold(gray, 45, 255, cv2.THRESH_BINARY)[1]\n",
        "    thresh = cv2.erode(thresh, None, iterations=2)\n",
        "    thresh = cv2.dilate(thresh, None, iterations=2)\n",
        "\n",
        "    #Find contours in thresholded image, then grab the largest one\n",
        "    cnts = cv2.findContours(thresh.copy(), cv2.RETR_EXTERNAL, cv2.CHAIN_APPROX_SIMPLE)\n",
        "    cnts = imutils.grab_contours(cnts)\n",
        "    c = max(cnts, key=cv2.contourArea)\n",
        "\n",
        "    #Extreme points\n",
        "    extLeft = tuple(c[c[:, :, 0].argmin()][0])\n",
        "    extRight = tuple(c[c[:, :, 0].argmax()][0])\n",
        "    extTop = tuple(c[c[:, :, 1].argmin()][0])\n",
        "    extBot = tuple(c[c[:, :, 1].argmax()][0])\n",
        "\n",
        "    #Crop new image out of the original image using the four extreme points (left, right, top, bottom)\n",
        "    new_image = image[extTop[1]:extBot[1], extLeft[0]:extRight[0]]\n",
        "\n",
        "    if plot:\n",
        "        plt.figure()\n",
        "        plt.subplot(1, 2, 1)\n",
        "        plt.imshow(image)\n",
        "        plt.tick_params(axis='both', which='both', top=False, bottom=False, left=False, right=False,labelbottom=False, labeltop=False, labelleft=False, labelright=False)\n",
        "        plt.title('Original Image')\n",
        "        plt.subplot(1, 2, 2)\n",
        "        plt.imshow(new_image)\n",
        "        plt.tick_params(axis='both', which='both',top=False, bottom=False, left=False, right=False,labelbottom=False, labeltop=False, labelleft=False, labelright=False)\n",
        "        plt.title('Cropped Image')\n",
        "        plt.show()\n",
        "\n",
        "    return new_image"
      ]
    },
    {
      "cell_type": "code",
      "execution_count": null,
      "metadata": {
        "colab": {
          "base_uri": "https://localhost:8080/",
          "height": 323
        },
        "id": "k3Vb79OTYoiY",
        "outputId": "677ec538-b0ad-4094-f4c3-fe89decc0f7a"
      },
      "outputs": [],
      "source": [
        "#Example\n",
        "ex_img = cv2.imread('no/1 no.jpeg')\n",
        "img = crop_brain_contour(ex_img, plot=True)"
      ]
    },
    {
      "cell_type": "code",
      "execution_count": null,
      "metadata": {
        "id": "HcEUiDEHYo4X"
      },
      "outputs": [],
      "source": [
        "#Define a function that load data\n",
        "def load_data(dir_list, image_size):\n",
        "\n",
        "    # load all images in a directory\n",
        "    X = []\n",
        "    y = []\n",
        "    image_width, image_height = image_size\n",
        "\n",
        "    for directory in dir_list:\n",
        "        for filename in os.listdir(directory):\n",
        "            image = cv2.imread(directory+'/'+filename)\n",
        "            image = crop_brain_contour(image, plot=False)\n",
        "            image = cv2.resize(image, dsize=(image_width, image_height), interpolation=cv2.INTER_CUBIC)\n",
        "            # normalize values\n",
        "            image = image / 255.\n",
        "            # convert image to numpy array and append it to X\n",
        "            X.append(image)\n",
        "            # append a value of 1 to the target array if the image\n",
        "            # is in the folder named 'yes', otherwise append 0.\n",
        "            if directory[-3:] == 'yes':\n",
        "                y.append([1])\n",
        "            else:\n",
        "                y.append([0])\n",
        "\n",
        "    X = np.array(X)\n",
        "    y = np.array(y)\n",
        "\n",
        "    # Shuffle the data\n",
        "    X, y = shuffle(X, y)\n",
        "\n",
        "    print(f'Number of examples is: {len(X)}')\n",
        "    print(f'X shape is: {X.shape}')\n",
        "    print(f'y shape is: {y.shape}')\n",
        "\n",
        "    return X, y"
      ]
    },
    {
      "cell_type": "code",
      "execution_count": null,
      "metadata": {
        "colab": {
          "base_uri": "https://localhost:8080/"
        },
        "id": "t4zu-rduYskh",
        "outputId": "7e77bb04-1469-46eb-81cc-742ef128d0c9"
      },
      "outputs": [],
      "source": [
        "#Load trainig data\n",
        "IMG_WIDTH, IMG_HEIGHT = (240, 240)\n",
        "X_train, y_train = load_data(['/content/train/yes', '/content/train/no'], (IMG_WIDTH, IMG_HEIGHT))"
      ]
    },
    {
      "cell_type": "code",
      "execution_count": null,
      "metadata": {
        "id": "dNizBHKUYugn"
      },
      "outputs": [],
      "source": [
        "#Define a function that plot images\n",
        "def plot_sample_images(X, y, n=40):\n",
        "    for label in [0,1]:\n",
        "        # grab the first n images with the corresponding y values equal to label\n",
        "        images = X[np.argwhere(y == label)]\n",
        "        n_images = images[:n]\n",
        "\n",
        "        columns_n = 10\n",
        "        rows_n = int(n/ columns_n)\n",
        "\n",
        "        plt.figure(figsize=(10,4))\n",
        "\n",
        "        i = 1 # current plot\n",
        "        for image in n_images:\n",
        "            plt.subplot(rows_n, columns_n, i)\n",
        "            plt.imshow(image[0])\n",
        "\n",
        "            # remove ticks\n",
        "            plt.tick_params(axis='both', which='both',\n",
        "                            top=False, bottom=False, left=False, right=False,\n",
        "                           labelbottom=False, labeltop=False, labelleft=False, labelright=False)\n",
        "\n",
        "            i += 1\n",
        "\n",
        "        label_to_str = lambda label: \"Yes\" if label == 1 else \"No\"\n",
        "        plt.suptitle(f\"Brain Tumor: {label_to_str(label)}\")\n",
        "        plt.show()\n"
      ]
    },
    {
      "cell_type": "code",
      "execution_count": null,
      "metadata": {
        "colab": {
          "base_uri": "https://localhost:8080/",
          "height": 751
        },
        "id": "W4Ra0L5DYydh",
        "outputId": "db642d94-5b1c-45a9-f46a-c605d1df468b"
      },
      "outputs": [],
      "source": [
        "#Plot samples from the training set\n",
        "plot_sample_images(X_train, y_train)"
      ]
    },
    {
      "cell_type": "code",
      "execution_count": null,
      "metadata": {
        "colab": {
          "base_uri": "https://localhost:8080/"
        },
        "id": "EuW_37jHYy22",
        "outputId": "dee39693-3c9d-4e5b-fe9f-bfd941ac6f19"
      },
      "outputs": [],
      "source": [
        "#Load test data\n",
        "IMG_WIDTH, IMG_HEIGHT = (240, 240)\n",
        "X_test, y_test = load_data(['/content/test/yes', '/content/test/no'], (IMG_WIDTH, IMG_HEIGHT))"
      ]
    },
    {
      "cell_type": "code",
      "execution_count": null,
      "metadata": {
        "colab": {
          "base_uri": "https://localhost:8080/",
          "height": 751
        },
        "id": "1OCQX4zPY0zT",
        "outputId": "8fee2bea-d474-4529-deb9-97f3d76bb954"
      },
      "outputs": [],
      "source": [
        "#Plot samples from the testing set\n",
        "plot_sample_images(X_test, y_test)"
      ]
    },
    {
      "cell_type": "code",
      "execution_count": null,
      "metadata": {
        "colab": {
          "base_uri": "https://localhost:8080/"
        },
        "id": "5ojpnV1_Y3AZ",
        "outputId": "436a97e9-66ed-41ae-888f-3266c4c3642e"
      },
      "outputs": [],
      "source": [
        "#Load validation data\n",
        "IMG_WIDTH, IMG_HEIGHT = (240, 240)\n",
        "X_val, y_val = load_data(['/content/val/yes', '/content/val/no'], (IMG_WIDTH, IMG_HEIGHT))"
      ]
    },
    {
      "cell_type": "code",
      "execution_count": null,
      "metadata": {
        "colab": {
          "base_uri": "https://localhost:8080/",
          "height": 751
        },
        "id": "rFm2bJnTY7Wt",
        "outputId": "f7f3b295-91da-41ea-e973-afebac8cef8e"
      },
      "outputs": [],
      "source": [
        "#Plot samples from the validation set\n",
        "plot_sample_images(X_val, y_val)"
      ]
    },
    {
      "cell_type": "code",
      "execution_count": null,
      "metadata": {
        "colab": {
          "base_uri": "https://localhost:8080/"
        },
        "id": "0JqFpUGXY-H3",
        "outputId": "d6f24fe8-5b2d-40f2-98d1-0e4e4cbff592"
      },
      "outputs": [],
      "source": [
        "#Build our model\n",
        "model = Sequential()\n",
        "\n",
        "model.add(Conv2D(filters = 16, kernel_size = (3,3), activation = 'relu', input_shape = (240, 240, 3)))\n",
        "\n",
        "model.add(Conv2D(filters = 32, kernel_size = (3,3), activation = 'relu'))\n",
        "model.add(MaxPool2D(pool_size = (2,2)))\n",
        "\n",
        "model.add(Conv2D(filters = 64, kernel_size = (3,3), activation = 'relu'))\n",
        "model.add(MaxPool2D(pool_size = (2,2)))\n",
        "\n",
        "model.add(Conv2D(filters = 128, kernel_size = (3,3), activation = 'relu'))\n",
        "model.add(MaxPool2D(pool_size = (2,2)))\n",
        "\n",
        "model.add(Dropout(rate = 0.25))\n",
        "\n",
        "model.add(Flatten())\n",
        "model.add(Dense(units = 64, activation = 'relu'))\n",
        "model.add(Dropout(rate = 0.25))\n",
        "model.add(Dense(units = 1, activation = 'sigmoid'))\n",
        "#Compile our model\n",
        "model.compile(optimizer = 'adam', loss = keras.losses.binary_crossentropy, metrics = ['accuracy'])\n",
        "model.summary()"
      ]
    },
    {
      "cell_type": "code",
      "execution_count": null,
      "metadata": {
        "id": "tXImyl0_ZDQD"
      },
      "outputs": [],
      "source": [
        "#Early stopping and model checkpoint\n",
        "from keras.callbacks import ModelCheckpoint, EarlyStopping\n",
        "\n",
        "es = EarlyStopping(monitor = 'val_accuracy', min_delta = 0.01, patience = 5, verbose = 1, mode = 'auto')\n",
        "mc = ModelCheckpoint(monitor ='val_accuracy', filepath = './bestmodel.h5', verbose = 1, save_best_only = True, mode = 'auto')\n",
        "\n",
        "cd = [es, mc]"
      ]
    },
    {
      "cell_type": "code",
      "execution_count": null,
      "metadata": {
        "colab": {
          "base_uri": "https://localhost:8080/"
        },
        "id": "J_lNrGBVZDyR",
        "outputId": "d53a3c21-731a-4647-b76a-06b4bd2be2cb"
      },
      "outputs": [],
      "source": [
        "#Train our model\n",
        "hist = model.fit(x = X_train, y = y_train, batch_size = 32, epochs = 30, validation_data = (X_val, y_val), callbacks = cd, verbose = 1)"
      ]
    },
    {
      "cell_type": "code",
      "execution_count": null,
      "metadata": {
        "colab": {
          "base_uri": "https://localhost:8080/",
          "height": 281
        },
        "id": "KPTLsi-vlhRe",
        "outputId": "f485be5c-7e47-4139-937a-87e970a498cf"
      },
      "outputs": [],
      "source": [
        "#Plot the graphical interpretation\n",
        "h = hist.history\n",
        "plt.plot(h['accuracy'], label = 'accuracy')\n",
        "plt.plot(h['val_accuracy'], label = 'val-accuracy')\n",
        "plt.title('Accuracy vs Val Accuracy')\n",
        "plt.legend()\n",
        "plt.show()"
      ]
    },
    {
      "cell_type": "code",
      "execution_count": null,
      "metadata": {
        "colab": {
          "base_uri": "https://localhost:8080/",
          "height": 281
        },
        "id": "bsxQGBoFlkCT",
        "outputId": "eeded0e2-62c9-4db4-97c9-2c8215d22980"
      },
      "outputs": [],
      "source": [
        "#Plot the graphical interpretation\n",
        "h = hist.history\n",
        "plt.plot(h['loss'], label = 'loss')\n",
        "plt.plot(h['val_loss'], label = 'val-loss')\n",
        "plt.title('Loss vs Val Loss')\n",
        "plt.legend()\n",
        "plt.show()\n"
      ]
    },
    {
      "cell_type": "code",
      "execution_count": null,
      "metadata": {
        "colab": {
          "base_uri": "https://localhost:8080/"
        },
        "id": "nFgkb3rcloQz",
        "outputId": "89b17782-dab1-453e-a7d3-aa36e2545e51"
      },
      "outputs": [],
      "source": [
        "#Test our model on the test set\n",
        "from keras.models import load_model\n",
        "model = load_model('/content/bestmodel.h5')\n",
        "acc = model.evaluate(X_test, y_test)[1]\n",
        "print(f'The accuracy of our model is {acc}')"
      ]
    },
    {
      "cell_type": "code",
      "execution_count": null,
      "metadata": {
        "colab": {
          "base_uri": "https://localhost:8080/"
        },
        "id": "dJtxEQyhlr7h",
        "outputId": "0cd49ef2-3b76-4a8b-87ec-bc3e4f2ff501"
      },
      "outputs": [],
      "source": [
        "from PIL import Image\n",
        "import numpy as np\n",
        "import tensorflow as tf\n",
        "\n",
        "# Choose a MRI image with tumor\n",
        "path = \"/content/aug_data/yes/aug_Y25_0_5988.jpg\"\n",
        "img_yes = Image.open(path).resize((240,240))\n",
        "img_array_yes = np.array(img_yes)/255\n",
        "img_array_yes = np.expand_dims(img_array_yes, axis=0)\n",
        "\n",
        "# Load the trained model\n",
        "model = tf.keras.models.load_model('bestmodel.h5')\n",
        "\n",
        "# Make a prediction on the image\n",
        "prediction1 = model.predict(img_array_yes)\n",
        "class1 = np.round(prediction1).astype(int)\n",
        "if class1 == 0:\n",
        "  print(\"The MRI image doesn't have a Tumor\")\n",
        "else:\n",
        "  print(\"The MRI image has a tumor\")"
      ]
    },
    {
      "cell_type": "code",
      "execution_count": null,
      "metadata": {
        "colab": {
          "base_uri": "https://localhost:8080/"
        },
        "id": "1nR6AJ_6ls07",
        "outputId": "bbafc8a0-f9da-46a6-c76d-822909ea3969"
      },
      "outputs": [],
      "source": [
        "from PIL import Image\n",
        "\n",
        "# Choose an MRI image without tumor\n",
        "path = \"/content/aug_data/no/aug_no 10_0_7554.jpg\"\n",
        "img_no = Image.open(path).resize((240, 240))\n",
        "img_array_no = np.array(img_no)/255\n",
        "img_array_no = np.expand_dims(img_array_no, axis=0)\n",
        "prediction2 = model.predict(img_array_no)\n",
        "class2 = np.round(prediction2).astype(int)\n",
        "if class2 == 0:\n",
        "    print(\"The MRI image doesn't have a tumor\")\n",
        "else:\n",
        "    print(\"The MRI image has a tumor\")"
      ]
    },
    {
      "cell_type": "code",
      "execution_count": null,
      "metadata": {
        "colab": {
          "base_uri": "https://localhost:8080/"
        },
        "id": "UDYOlHX73xMp",
        "outputId": "a74ec7af-f30f-4431-a19f-09011ae674ac"
      },
      "outputs": [],
      "source": [
        "from keras.applications import VGG16\n",
        "from keras.models import Sequential\n",
        "from keras.layers import Dense, Flatten\n",
        "from keras.callbacks import ModelCheckpoint\n",
        "from keras.callbacks import EarlyStopping\n",
        "# Load VGG16 model with imagenet weights and exclude the top layer\n",
        "vgg_model = VGG16(weights='imagenet', include_top=False, input_shape=(240, 240, 3))\n",
        "\n",
        "# Freeze all the layers in the base model\n",
        "for layer in vgg_model.layers:\n",
        "    layer.trainable = False\n",
        "\n",
        "# Add a custom top layer\n",
        "model = Sequential()\n",
        "model.add(vgg_model)\n",
        "model.add(Flatten())\n",
        "model.add(Dense(256, activation='relu'))\n",
        "model.add(Dense(1, activation='sigmoid'))\n",
        "# Compile the model\n",
        "model.compile(optimizer='adam', loss='binary_crossentropy', metrics=['accuracy'])\n",
        "model.summary()\n",
        "\n"
      ]
    },
    {
      "cell_type": "code",
      "execution_count": null,
      "metadata": {
        "colab": {
          "base_uri": "https://localhost:8080/"
        },
        "id": "x9Q4QDf849u-",
        "outputId": "37513105-0d89-433a-cc9b-d2e865d6ec82"
      },
      "outputs": [],
      "source": [
        "# Set up ModelCheckpoint to save the best model based on validation accuracy\n",
        "checkpoint = ModelCheckpoint('best_model.h5', monitor='val_accuracy', save_best_only=True, mode='max', verbose=1)\n",
        "early_stop = EarlyStopping(monitor='val_loss', patience=3, verbose=1, mode='auto')\n",
        "\n",
        "# Train the model with checkpoint\n",
        "history = model.fit(X_train, y_train, epochs=10, batch_size=32, validation_data=(X_val, y_val), callbacks=[checkpoint,early_stop])\n",
        "\n",
        "# Load the best model\n",
        "model.load_weights('best_model.h5')"
      ]
    },
    {
      "cell_type": "code",
      "execution_count": null,
      "metadata": {
        "colab": {
          "base_uri": "https://localhost:8080/",
          "height": 452
        },
        "id": "Z7RWHRIlRaVY",
        "outputId": "56be1302-6c25-4520-aed4-e7a084a79bb3"
      },
      "outputs": [],
      "source": [
        "h = history.history\n",
        "plt.plot(h['accuracy'], label = 'accuracy')\n",
        "plt.plot(h['val_accuracy'], label = 'val-accuracy')\n",
        "plt.title('Accuracy vs Val Accuracy')\n",
        "plt.legend()\n",
        "plt.show()"
      ]
    },
    {
      "cell_type": "code",
      "execution_count": null,
      "metadata": {
        "colab": {
          "base_uri": "https://localhost:8080/",
          "height": 452
        },
        "id": "o9jDH7ZTRxR-",
        "outputId": "fc2a8edb-1b86-45e5-f7cb-a9f45a62e137"
      },
      "outputs": [],
      "source": [
        "#Plot the graphical interpretation\n",
        "h = history.history\n",
        "plt.plot(h['loss'], label = 'loss')\n",
        "plt.plot(h['val_loss'], label = 'val-loss')\n",
        "plt.title('Loss vs Val Loss')\n",
        "plt.legend()\n",
        "plt.show()"
      ]
    },
    {
      "cell_type": "code",
      "execution_count": null,
      "metadata": {
        "colab": {
          "base_uri": "https://localhost:8080/"
        },
        "id": "f8FsgFAniGwS",
        "outputId": "54c0d6da-679f-41b1-8adc-a6a97a60a7c6"
      },
      "outputs": [],
      "source": [
        "#Test our model on the test set\n",
        "from keras.models import load_model\n",
        "model = load_model('/content/best_model.h5')\n",
        "acc = model.evaluate(X_test, y_test)[1]\n",
        "print(f'The accuracy of our model is {acc}')"
      ]
    },
    {
      "cell_type": "code",
      "execution_count": null,
      "metadata": {
        "colab": {
          "base_uri": "https://localhost:8080/"
        },
        "id": "qAyhmqbVjXhj",
        "outputId": "c4ba89db-f1b0-4f11-9843-c5162b9c9a95"
      },
      "outputs": [],
      "source": [
        "from PIL import Image\n",
        "import numpy as np\n",
        "import tensorflow as tf\n",
        "\n",
        "# Choose a MRI image with tumor\n",
        "path = \"/content/aug_data/yes/aug_Y6_0_767.jpg\"\n",
        "img_yes = Image.open(path).resize((240,240))\n",
        "img_array_yes = np.array(img_yes)/255\n",
        "img_array_yes = np.expand_dims(img_array_yes, axis=0)\n",
        "\n",
        "# Load the trained model\n",
        "model = tf.keras.models.load_model('best_model.h5')\n",
        "\n",
        "# Make a prediction on the image\n",
        "prediction1 = model.predict(img_array_yes)\n",
        "class1 = np.round(prediction1).astype(int)\n",
        "if class1 == 0:\n",
        "  print(\"The MRI image doesn't have a Tumor\")\n",
        "else:\n",
        "  print(\"The MRI image has a tumor\")"
      ]
    },
    {
      "cell_type": "code",
      "execution_count": null,
      "metadata": {
        "colab": {
          "base_uri": "https://localhost:8080/"
        },
        "id": "CFvLbsLEjbih",
        "outputId": "dd9da401-5ab5-4ce8-80f4-d22465c876c2"
      },
      "outputs": [],
      "source": [
        "from PIL import Image\n",
        "\n",
        "# Choose an MRI image without tumor\n",
        "path = \"/content/aug_data/no/aug_5 no_0_6712.jpg\"\n",
        "img_no = Image.open(path).resize((240, 240))\n",
        "img_array_no = np.array(img_no)/255\n",
        "img_array_no = np.expand_dims(img_array_no, axis=0)\n",
        "prediction2 = model.predict(img_array_no)\n",
        "class2 = np.round(prediction2).astype(int)\n",
        "if class2 == 0:\n",
        "    print(\"The MRI image doesn't have a tumor\")\n",
        "else:\n",
        "    print(\"The MRI image has a tumor\")"
      ]
    },
    {
      "cell_type": "code",
      "execution_count": null,
      "metadata": {
        "colab": {
          "base_uri": "https://localhost:8080/",
          "height": 369
        },
        "id": "epur1Bx3xO5I",
        "outputId": "0b2f71c9-15f9-44e5-dddb-665c00d0f935"
      },
      "outputs": [],
      "source": [
        "import pandas as pd\n",
        "import numpy as np\n",
        "from tensorflow.keras.models import load_model\n",
        "from sklearn.metrics import confusion_matrix\n",
        "import seaborn as sns\n",
        "import matplotlib.pyplot as plt\n",
        "\n",
        "model = load_model('/content/best_model.h5')\n",
        "y_train_pred = model.predict(X_train)\n",
        "y_test_pred = model.predict(X_test)\n",
        "\n",
        "# Convert predicted values to binary values using threshold of 0.5\n",
        "y_test_pred = np.where(y_test_pred >= 0.5, 1, 0)\n",
        "\n",
        "# Generate confusion matrix\n",
        "cm = confusion_matrix(y_test, y_test_pred)\n",
        "\n",
        "# Plot confusion matrix as heatmap\n",
        "df_cm = pd.DataFrame(cm, index=[i for i in [\"1\",'0']], columns=[i for i in [\"1\",\"0\"]])\n",
        "plt.figure(figsize=(4,3))\n",
        "sns.heatmap(df_cm, annot=True, fmt='g')\n",
        "plt.xlabel('Predicted label')\n",
        "plt.ylabel('True label')\n",
        "plt.title('Confusion Matrix')\n",
        "plt.show()"
      ]
    },
    {
      "cell_type": "code",
      "execution_count": null,
      "metadata": {
        "colab": {
          "base_uri": "https://localhost:8080/"
        },
        "id": "UMrs5g4_yreV",
        "outputId": "e2802e4b-e1f9-4e6f-a610-633411f538a2"
      },
      "outputs": [],
      "source": [
        "from sklearn.metrics import confusion_matrix, matthews_corrcoef\n",
        "tn, fp, fn, tp = confusion_matrix(y_test, y_test_pred).ravel()\n",
        "acc= (tp+tn)/ (tp+tn+fp+fn)\n",
        "pre= tp/(fp+tp)\n",
        "rec=tp/(fn+tp)\n",
        "f1 = 2*pre*rec/(pre+rec)\n",
        "specificity = tn / (tn + fp)\n",
        "fpr = fp / (tn + fp)\n",
        "fnr = fn / (fn + tp)\n",
        "npv = tn / (tn + fn)\n",
        "fdr = fp / (fp + tp)\n",
        "mcc = matthews_corrcoef(y_test, y_test_pred)\n",
        "print('VGG16 Model additional performance metrics for Test set')\n",
        "print('- Accuracy: {:.4f}'.format(acc))\n",
        "print('- Precision: {:.4f}'.format(pre))\n",
        "print('- Recall: {:.4f}'.format(rec))\n",
        "print('- Specificity: {:.4f}'.format(specificity))\n",
        "print('- F1 score: {:.4f}'.format(f1))\n",
        "print('- FPR: {:.4f}'.format(fpr))\n",
        "print('- FNR: {:.4f}'.format(fnr))\n",
        "print('- NPV: {:.4f}'.format(npv))\n",
        "print('- FDR: {:.4f}'.format(fdr))\n",
        "print('- MCC: {:.4f}'.format(mcc))"
      ]
    },
    {
      "cell_type": "code",
      "execution_count": null,
      "metadata": {
        "colab": {
          "base_uri": "https://localhost:8080/"
        },
        "id": "AR9SJT5YU2tv",
        "outputId": "57db8fca-dc6d-4126-ebb0-41f674c4f7e9"
      },
      "outputs": [],
      "source": [
        "from keras.applications import VGG19\n",
        "from keras.models import Sequential\n",
        "from keras.layers import Dense, Flatten\n",
        "\n",
        "# Load VGG19 model with imagenet weights and exclude the top layer\n",
        "vgg_model = VGG19(weights='imagenet', include_top=False, input_shape=(240, 240, 3))\n",
        "\n",
        "# Freeze all the layers in the base model\n",
        "for layer in vgg_model.layers:\n",
        "    layer.trainable = False\n",
        "\n",
        "# Add a custom top layer\n",
        "model = Sequential()\n",
        "model.add(vgg_model)\n",
        "model.add(Flatten())\n",
        "model.add(Dense(256, activation='relu'))\n",
        "model.add(Dense(1, activation='sigmoid'))\n",
        "\n",
        "# Compile the model\n",
        "model.compile(optimizer='adam', loss='binary_crossentropy', metrics=['accuracy'])\n",
        "model.summary()\n"
      ]
    },
    {
      "cell_type": "code",
      "execution_count": null,
      "metadata": {
        "colab": {
          "base_uri": "https://localhost:8080/"
        },
        "id": "zmu6Axl6V0_8",
        "outputId": "bd82c77c-79f2-4a46-d3db-6954f5326fa5"
      },
      "outputs": [],
      "source": [
        "# Set up ModelCheckpoint to save the best model based on validation accuracy\n",
        "checkpoint = ModelCheckpoint('bestt_model.h5', monitor='val_accuracy', save_best_only=True, mode='max', verbose=1)\n",
        "early_stop = EarlyStopping(monitor='val_loss', patience=3, verbose=1, mode='auto')\n",
        "\n",
        "# Train the model with checkpoint\n",
        "history = model.fit(X_train, y_train, epochs=10, batch_size=32, validation_data=(X_val, y_val), callbacks=[checkpoint,early_stop])\n",
        "\n",
        "# Load the best model\n",
        "model.load_weights('bestt_model.h5')"
      ]
    },
    {
      "cell_type": "code",
      "execution_count": null,
      "metadata": {
        "colab": {
          "base_uri": "https://localhost:8080/",
          "height": 452
        },
        "id": "aS6qTRctd4Ov",
        "outputId": "0bb74cde-9d2e-4e59-c040-b7e8c023d97b"
      },
      "outputs": [],
      "source": [
        "h = history.history\n",
        "plt.plot(h['accuracy'], label = 'accuracy')\n",
        "plt.plot(h['val_accuracy'], label = 'val-accuracy')\n",
        "plt.title('Accuracy vs Val Accuracy')\n",
        "plt.legend()\n",
        "plt.show()"
      ]
    },
    {
      "cell_type": "code",
      "execution_count": null,
      "metadata": {
        "colab": {
          "base_uri": "https://localhost:8080/",
          "height": 452
        },
        "id": "voyo3Gwad4Ff",
        "outputId": "16d21b75-c304-441e-d42a-f788ceb58e78"
      },
      "outputs": [],
      "source": [
        "#Plot the graphical interpretation\n",
        "h = history.history\n",
        "plt.plot(h['loss'], label = 'loss')\n",
        "plt.plot(h['val_loss'], label = 'val-loss')\n",
        "plt.title('Loss vs Val Loss')\n",
        "plt.legend()\n",
        "plt.show()"
      ]
    },
    {
      "cell_type": "code",
      "execution_count": null,
      "metadata": {
        "colab": {
          "base_uri": "https://localhost:8080/"
        },
        "id": "sv8sb1kSd342",
        "outputId": "487845ca-bd9f-4b4e-d1c1-fef89f530a11"
      },
      "outputs": [],
      "source": [
        "#Test our model on the test set\n",
        "from keras.models import load_model\n",
        "model = load_model('/content/bestt_model.h5')\n",
        "acc = model.evaluate(X_test, y_test)[1]\n",
        "print(f'The accuracy of our model is {acc}')"
      ]
    },
    {
      "cell_type": "code",
      "execution_count": null,
      "metadata": {
        "colab": {
          "base_uri": "https://localhost:8080/"
        },
        "id": "cttdMxr6d3d5",
        "outputId": "eb21c215-bacd-4caa-e908-4c28b848eaf7"
      },
      "outputs": [],
      "source": [
        "from PIL import Image\n",
        "import numpy as np\n",
        "import tensorflow as tf\n",
        "\n",
        "# Choose a MRI image with tumor\n",
        "path = \"/content/aug_data/yes/aug_Y248_0_5054.jpg\"\n",
        "img_yes = Image.open(path).resize((240,240))\n",
        "img_array_yes = np.array(img_yes)/255\n",
        "img_array_yes = np.expand_dims(img_array_yes, axis=0)\n",
        "\n",
        "# Load the trained model\n",
        "model = tf.keras.models.load_model('bestt_model.h5')\n",
        "\n",
        "# Make a prediction on the image\n",
        "prediction1 = model.predict(img_array_yes)\n",
        "class1 = np.round(prediction1).astype(int)\n",
        "if class1 == 0:\n",
        "  print(\"The MRI image doesn't have a Tumor\")\n",
        "else:\n",
        "  print(\"The MRI image has a tumor\")"
      ]
    },
    {
      "cell_type": "code",
      "execution_count": null,
      "metadata": {
        "colab": {
          "base_uri": "https://localhost:8080/"
        },
        "id": "L1oNv54xd3Oc",
        "outputId": "e5665fa2-c3d3-40f0-87bc-358873a9be5d"
      },
      "outputs": [],
      "source": [
        "from PIL import Image\n",
        "\n",
        "# Choose an MRI image without tumor\n",
        "path = \"/content/aug_data/no/aug_7 no_0_1966.jpg\"\n",
        "img_no = Image.open(path).resize((240, 240))\n",
        "img_array_no = np.array(img_no)/255\n",
        "img_array_no = np.expand_dims(img_array_no, axis=0)\n",
        "prediction2 = model.predict(img_array_no)\n",
        "class2 = np.round(prediction2).astype(int)\n",
        "if class2 == 0:\n",
        "    print(\"The MRI image doesn't have a tumor\")\n",
        "else:\n",
        "    print(\"The MRI image has a tumor\")"
      ]
    },
    {
      "cell_type": "code",
      "execution_count": null,
      "metadata": {
        "colab": {
          "base_uri": "https://localhost:8080/",
          "height": 369
        },
        "id": "WurrgKy2jzuR",
        "outputId": "bc3b2490-24a7-40e9-e6b1-068aac6a7275"
      },
      "outputs": [],
      "source": [
        "import pandas as pd\n",
        "import numpy as np\n",
        "from tensorflow.keras.models import load_model\n",
        "from sklearn.metrics import confusion_matrix\n",
        "import seaborn as sns\n",
        "import matplotlib.pyplot as plt\n",
        "\n",
        "model = load_model('/content/bestt_model (2).h5')\n",
        "y_train_pred = model.predict(X_train)\n",
        "y_test_pred = model.predict(X_test)\n",
        "\n",
        "# Convert predicted values to binary values using threshold of 0.5\n",
        "y_test_pred = np.where(y_test_pred >= 0.5, 1, 0)\n",
        "\n",
        "# Generate confusion matrix\n",
        "cm = confusion_matrix(y_test, y_test_pred)\n",
        "\n",
        "# Plot confusion matrix as heatmap\n",
        "df_cm = pd.DataFrame(cm, index=[i for i in [\"1\",'0']], columns=[i for i in [\"1\",\"0\"]])\n",
        "plt.figure(figsize=(4,3))\n",
        "sns.heatmap(df_cm, annot=True, fmt='g')\n",
        "plt.xlabel('Predicted label')\n",
        "plt.ylabel('True label')\n",
        "plt.title('Confusion Matrix')\n",
        "plt.show()\n"
      ]
    },
    {
      "cell_type": "code",
      "execution_count": null,
      "metadata": {
        "colab": {
          "base_uri": "https://localhost:8080/"
        },
        "id": "9iA2ouCZpsgb",
        "outputId": "449389da-dc7d-408f-a9f9-55c96aef32af"
      },
      "outputs": [],
      "source": [
        "from sklearn.metrics import confusion_matrix, matthews_corrcoef\n",
        "tn, fp, fn, tp = confusion_matrix(y_test, y_test_pred).ravel()\n",
        "acc= (tp+tn)/ (tp+tn+fp+fn)\n",
        "pre= tp/(fp+tp)\n",
        "rec=tp/(fn+tp)\n",
        "f1 = 2*pre*rec/(pre+rec)\n",
        "specificity = tn / (tn + fp)\n",
        "fpr = fp / (tn + fp)\n",
        "fnr = fn / (fn + tp)\n",
        "npv = tn / (tn + fn)\n",
        "fdr = fp / (fp + tp)\n",
        "mcc = matthews_corrcoef(y_test, y_test_pred)\n",
        "print('VGG19 Model additional performance metrics for Test set')\n",
        "print('- Accuracy: {:.4f}'.format(acc))\n",
        "print('- Precision: {:.4f}'.format(pre))\n",
        "print('- Recall: {:.4f}'.format(rec))\n",
        "print('- Specificity: {:.4f}'.format(specificity))\n",
        "print('- F1 score: {:.4f}'.format(f1))\n",
        "print('- FPR: {:.4f}'.format(fpr))\n",
        "print('- FNR: {:.4f}'.format(fnr))\n",
        "print('- NPV: {:.4f}'.format(npv))\n",
        "print('- FDR: {:.4f}'.format(fdr))\n",
        "print('- MCC: {:.4f}'.format(mcc))"
      ]
    },
    {
      "cell_type": "code",
      "execution_count": null,
      "metadata": {
        "colab": {
          "base_uri": "https://localhost:8080/"
        },
        "id": "P0NMU5ce2eHY",
        "outputId": "c7d1758f-3de8-45f7-8187-0c8e7613119a"
      },
      "outputs": [],
      "source": [
        "from keras.applications import MobileNetV2\n",
        "from keras.models import Sequential\n",
        "from keras.layers import Dense, GlobalAveragePooling2D\n",
        "\n",
        "# Load MobileNetV2 model with imagenet weights and exclude the top layer\n",
        "mobilenet_model = MobileNetV2(weights='imagenet', include_top=False, input_shape=(240, 240, 3))\n",
        "\n",
        "# Freeze all the layers in the base model\n",
        "for layer in mobilenet_model.layers:\n",
        "    layer.trainable = False\n",
        "\n",
        "# Add a custom top layer\n",
        "model = Sequential()\n",
        "model.add(mobilenet_model)\n",
        "model.add(GlobalAveragePooling2D())\n",
        "model.add(Dense(256, activation='relu'))\n",
        "model.add(Dense(1, activation='sigmoid'))\n",
        "\n",
        "# Compile the model\n",
        "model.compile(optimizer='adam', loss='binary_crossentropy', metrics=['accuracy'])\n",
        "model.summary()"
      ]
    },
    {
      "cell_type": "code",
      "execution_count": null,
      "metadata": {
        "colab": {
          "base_uri": "https://localhost:8080/"
        },
        "id": "e56nlSYk2lo-",
        "outputId": "6d024b59-30a2-4457-fffb-5a639cd9183e"
      },
      "outputs": [],
      "source": [
        "from keras.callbacks import ModelCheckpoint, EarlyStopping\n",
        "\n",
        "# Set up ModelCheckpoint to save the best model based on validation accuracy\n",
        "checkpoint = ModelCheckpoint('best1_model.h5', monitor='val_accuracy', save_best_only=True, mode='max', verbose=1)\n",
        "early_stop = EarlyStopping(monitor='val_loss', patience=3, verbose=1, mode='auto')\n",
        "\n",
        "# Train the model with checkpoint\n",
        "history = model.fit(X_train, y_train, epochs=10, batch_size=32, validation_data=(X_val, y_val), callbacks=[checkpoint,early_stop])\n",
        "\n",
        "# Load the best model\n",
        "model.load_weights('best1_model.h5')"
      ]
    },
    {
      "cell_type": "code",
      "execution_count": null,
      "metadata": {
        "colab": {
          "base_uri": "https://localhost:8080/",
          "height": 452
        },
        "id": "YOUSjIbs3jZh",
        "outputId": "3f4c9fa2-1d16-4520-acbf-120477e38367"
      },
      "outputs": [],
      "source": [
        "h = history.history\n",
        "plt.plot(h['accuracy'], label = 'accuracy')\n",
        "plt.plot(h['val_accuracy'], label = 'val-accuracy')\n",
        "plt.title('Accuracy vs Val Accuracy')\n",
        "plt.legend()\n",
        "plt.show()"
      ]
    },
    {
      "cell_type": "code",
      "execution_count": null,
      "metadata": {
        "colab": {
          "base_uri": "https://localhost:8080/",
          "height": 452
        },
        "id": "ZVFX4W-O3nC6",
        "outputId": "5a69db46-f0bf-4ccd-86eb-2aa7ca75ff23"
      },
      "outputs": [],
      "source": [
        "#Plot the graphical interpretation\n",
        "h = history.history\n",
        "plt.plot(h['loss'], label = 'loss')\n",
        "plt.plot(h['val_loss'], label = 'val-loss')\n",
        "plt.title('Loss vs Val Loss')\n",
        "plt.legend()\n",
        "plt.show()"
      ]
    },
    {
      "cell_type": "code",
      "execution_count": null,
      "metadata": {
        "colab": {
          "base_uri": "https://localhost:8080/"
        },
        "id": "Ci_sFQ_L3qhE",
        "outputId": "400ec20d-8f26-4439-dca0-cd63b707ebde"
      },
      "outputs": [],
      "source": [
        "#Test our model on the test set\n",
        "from keras.models import load_model\n",
        "model = load_model('/content/best1_model.h5')\n",
        "acc = model.evaluate(X_test, y_test)[1]\n",
        "print(f'The accuracy of our model is {acc}')"
      ]
    },
    {
      "cell_type": "code",
      "execution_count": null,
      "metadata": {
        "colab": {
          "base_uri": "https://localhost:8080/"
        },
        "id": "lk1qAtHk3uik",
        "outputId": "2603ffab-e785-46b9-e29f-c726a145d63c"
      },
      "outputs": [],
      "source": [
        "from PIL import Image\n",
        "import numpy as np\n",
        "import tensorflow as tf\n",
        "\n",
        "# Choose a MRI image with tumor\n",
        "path = \"/content/aug_data/yes/aug_Y81_0_4331.jpg\"\n",
        "img_yes = Image.open(path).resize((240,240))\n",
        "img_array_yes = np.array(img_yes)/255\n",
        "img_array_yes = np.expand_dims(img_array_yes, axis=0)\n",
        "\n",
        "# Load the trained model\n",
        "model = tf.keras.models.load_model('best1_model.h5')\n",
        "\n",
        "# Make a prediction on the image\n",
        "prediction1 = model.predict(img_array_yes)\n",
        "class1 = np.round(prediction1).astype(int)\n",
        "if class1 == 0:\n",
        "  print(\"The MRI image doesn't have a Tumor\")\n",
        "else:\n",
        "  print(\"The MRI image has a tumor\")"
      ]
    },
    {
      "cell_type": "code",
      "execution_count": null,
      "metadata": {
        "colab": {
          "base_uri": "https://localhost:8080/"
        },
        "id": "VNu_O9z23xsp",
        "outputId": "d072c306-f1a3-4bce-9e28-a5aeec902f58"
      },
      "outputs": [],
      "source": [
        "from PIL import Image\n",
        "\n",
        "# Choose an MRI image without tumor\n",
        "path = \"/content/aug_data/no/aug_14 no_0_9400.jpg\"\n",
        "img_no = Image.open(path).resize((240, 240))\n",
        "img_array_no = np.array(img_no)/255\n",
        "img_array_no = np.expand_dims(img_array_no, axis=0)\n",
        "prediction2 = model.predict(img_array_no)\n",
        "class2 = np.round(prediction2).astype(int)\n",
        "if class2 == 0:\n",
        "    print(\"The MRI image doesn't have a tumor\")\n",
        "else:\n",
        "    print(\"The MRI image has a tumor\")"
      ]
    },
    {
      "cell_type": "code",
      "execution_count": null,
      "metadata": {
        "colab": {
          "base_uri": "https://localhost:8080/",
          "height": 369
        },
        "id": "ivIEwVk1324A",
        "outputId": "6f7e5031-0c11-453d-9eb0-947ab13804a9"
      },
      "outputs": [],
      "source": [
        "import pandas as pd\n",
        "import numpy as np\n",
        "from tensorflow.keras.models import load_model\n",
        "from sklearn.metrics import confusion_matrix\n",
        "import seaborn as sns\n",
        "import matplotlib.pyplot as plt\n",
        "\n",
        "model = load_model('/content/best1_model.h5')\n",
        "y_train_pred = model.predict(X_train)\n",
        "y_test_pred = model.predict(X_test)\n",
        "\n",
        "# Convert predicted values to binary values using threshold of 0.5\n",
        "y_test_pred = np.where(y_test_pred >= 0.5, 1, 0)\n",
        "\n",
        "# Generate confusion matrix\n",
        "cm = confusion_matrix(y_test, y_test_pred)\n",
        "\n",
        "# Plot confusion matrix as heatmap\n",
        "df_cm = pd.DataFrame(cm, index=[i for i in [\"1\",'0']], columns=[i for i in [\"1\",\"0\"]])\n",
        "plt.figure(figsize=(4,3))\n",
        "sns.heatmap(df_cm, annot=True, fmt='g')\n",
        "plt.xlabel('Predicted label')\n",
        "plt.ylabel('True label')\n",
        "plt.title('Confusion Matrix')\n",
        "plt.show()"
      ]
    },
    {
      "cell_type": "code",
      "execution_count": null,
      "metadata": {
        "colab": {
          "base_uri": "https://localhost:8080/"
        },
        "id": "gSqBtcoN35w8",
        "outputId": "f02b30db-37c9-478d-b30d-f29ce24d6dde"
      },
      "outputs": [],
      "source": [
        "from sklearn.metrics import confusion_matrix, matthews_corrcoef\n",
        "tn, fp, fn, tp = confusion_matrix(y_test, y_test_pred).ravel()\n",
        "acc= (tp+tn)/ (tp+tn+fp+fn)\n",
        "pre= tp/(fp+tp)\n",
        "rec=tp/(fn+tp)\n",
        "f1 = 2*pre*rec/(pre+rec)\n",
        "specificity = tn / (tn + fp)\n",
        "fpr = fp / (tn + fp)\n",
        "fnr = fn / (fn + tp)\n",
        "npv = tn / (tn + fn)\n",
        "fdr = fp / (fp + tp)\n",
        "mcc = matthews_corrcoef(y_test, y_test_pred)\n",
        "print('MobileNetV2 Model additional performance metrics for Test set')\n",
        "print('- Accuracy: {:.4f}'.format(acc))\n",
        "print('- Precision: {:.4f}'.format(pre))\n",
        "print('- Recall: {:.4f}'.format(rec))\n",
        "print('- Specificity: {:.4f}'.format(specificity))\n",
        "print('- F1 score: {:.4f}'.format(f1))\n",
        "print('- FPR: {:.4f}'.format(fpr))\n",
        "print('- FNR: {:.4f}'.format(fnr))\n",
        "print('- NPV: {:.4f}'.format(npv))\n",
        "print('- FDR: {:.4f}'.format(fdr))\n",
        "print('- MCC: {:.4f}'.format(mcc))"
      ]
    },
    {
      "cell_type": "code",
      "execution_count": null,
      "metadata": {
        "colab": {
          "base_uri": "https://localhost:8080/"
        },
        "id": "vAO9sYXLO8H6",
        "outputId": "22dbac4f-eeef-4356-8727-6e1d281642d9"
      },
      "outputs": [],
      "source": [
        "from tensorflow.keras.applications.resnet50 import ResNet50\n",
        "from keras.layers import Activation\n",
        "\n",
        "base_Neural_Net= ResNet50(input_shape=(240,240,3), weights='imagenet', include_top=False)\n",
        "model=Sequential()\n",
        "model.add(base_Neural_Net)\n",
        "model.add(Flatten())\n",
        "model.add(BatchNormalization())\n",
        "model.add(Dense(256,kernel_initializer='he_uniform'))\n",
        "model.add(BatchNormalization())\n",
        "model.add(Activation('relu'))\n",
        "model.add(Dropout(0.5))\n",
        "model.add(Dense(1,activation='sigmoid'))\n",
        "\n",
        "for layer in base_Neural_Net.layers:\n",
        "    layer.trainable = False\n",
        "\n",
        "\n",
        "model.compile(\n",
        "    loss='binary_crossentropy',\n",
        "    optimizer='adam',\n",
        "    metrics=['accuracy']\n",
        ")\n",
        "\n",
        "model.summary()"
      ]
    },
    {
      "cell_type": "code",
      "execution_count": null,
      "metadata": {
        "colab": {
          "base_uri": "https://localhost:8080/"
        },
        "id": "CWdVo02IP_67",
        "outputId": "edb6e2fa-9f41-4040-f330-61abb0a6ba33"
      },
      "outputs": [],
      "source": [
        "from keras.callbacks import ModelCheckpoint, EarlyStopping\n",
        "\n",
        "# Set up ModelCheckpoint to save the best model based on validation accuracy\n",
        "checkpoint = ModelCheckpoint('best2_model.h5', monitor='val_accuracy', save_best_only=True, mode='max', verbose=1)\n",
        "early_stop = EarlyStopping(monitor='val_loss', patience=3, verbose=1, mode='auto')\n",
        "\n",
        "# Train the model with checkpoint\n",
        "history = model.fit(X_train, y_train, epochs=10, batch_size=32, validation_data=(X_val, y_val), callbacks=[checkpoint,early_stop])\n",
        "\n",
        "# Load the best model\n",
        "model.load_weights('best2_model.h5')"
      ]
    },
    {
      "cell_type": "code",
      "execution_count": null,
      "metadata": {
        "colab": {
          "base_uri": "https://localhost:8080/",
          "height": 452
        },
        "id": "Iwlu5tX0ZYL_",
        "outputId": "c559088e-ed86-447e-898e-35640d477d5a"
      },
      "outputs": [],
      "source": [
        "h = history.history\n",
        "plt.plot(h['accuracy'], label = 'accuracy')\n",
        "plt.plot(h['val_accuracy'], label = 'val-accuracy')\n",
        "plt.title('Accuracy vs Val Accuracy')\n",
        "plt.legend()\n",
        "plt.show()"
      ]
    },
    {
      "cell_type": "code",
      "execution_count": null,
      "metadata": {
        "colab": {
          "base_uri": "https://localhost:8080/",
          "height": 452
        },
        "id": "8qpc_nDDZf4t",
        "outputId": "f7a2ac16-a7cd-4a6f-d137-717afbbec144"
      },
      "outputs": [],
      "source": [
        "#Plot the graphical interpretation\n",
        "h = history.history\n",
        "plt.plot(h['loss'], label = 'loss')\n",
        "plt.plot(h['val_loss'], label = 'val-loss')\n",
        "plt.title('Loss vs Val Loss')\n",
        "plt.legend()\n",
        "plt.show()"
      ]
    },
    {
      "cell_type": "code",
      "execution_count": null,
      "metadata": {
        "colab": {
          "base_uri": "https://localhost:8080/"
        },
        "id": "XmRCLrTTZhIu",
        "outputId": "a3d42047-ea81-40f3-becc-758bffd8ba4d"
      },
      "outputs": [],
      "source": [
        "#Test our model on the test set\n",
        "from keras.models import load_model\n",
        "model = load_model('/content/best2_model.h5')\n",
        "acc = model.evaluate(X_test, y_test)[1]\n",
        "print(f'The accuracy of our model is {acc}')"
      ]
    },
    {
      "cell_type": "code",
      "execution_count": null,
      "metadata": {
        "colab": {
          "base_uri": "https://localhost:8080/"
        },
        "id": "SXNmtX4naduD",
        "outputId": "d7b07fc6-2175-4a2c-87ff-f840c73427e8"
      },
      "outputs": [],
      "source": [
        "from PIL import Image\n",
        "import numpy as np\n",
        "import tensorflow as tf\n",
        "\n",
        "# Choose a MRI image with tumor\n",
        "path = \"/content/aug_data/yes/aug_Y81_0_4331.jpg\"\n",
        "img_yes = Image.open(path).resize((240,240))\n",
        "img_array_yes = np.array(img_yes)/255\n",
        "img_array_yes = np.expand_dims(img_array_yes, axis=0)\n",
        "\n",
        "# Load the trained model\n",
        "model = tf.keras.models.load_model('best2_model.h5')\n",
        "\n",
        "# Make a prediction on the image\n",
        "prediction1 = model.predict(img_array_yes)\n",
        "class1 = np.round(prediction1).astype(int)\n",
        "if class1 == 0:\n",
        "  print(\"The MRI image doesn't have a Tumor\")\n",
        "else:\n",
        "  print(\"The MRI image has a tumor\")"
      ]
    },
    {
      "cell_type": "code",
      "execution_count": null,
      "metadata": {
        "colab": {
          "base_uri": "https://localhost:8080/"
        },
        "id": "UGWTl7XIahsu",
        "outputId": "6a4f1bf6-b367-4639-ffb3-92242e68f1ff"
      },
      "outputs": [],
      "source": [
        "from PIL import Image\n",
        "\n",
        "# Choose an MRI image without tumor\n",
        "path = \"/content/aug_data/no/aug_14 no_0_9400.jpg\"\n",
        "img_no = Image.open(path).resize((240, 240))\n",
        "img_array_no = np.array(img_no)/255\n",
        "img_array_no = np.expand_dims(img_array_no, axis=0)\n",
        "prediction2 = model.predict(img_array_no)\n",
        "class2 = np.round(prediction2).astype(int)\n",
        "if class2 == 0:\n",
        "    print(\"The MRI image doesn't have a tumor\")\n",
        "else:\n",
        "    print(\"The MRI image has a tumor\")"
      ]
    },
    {
      "cell_type": "code",
      "execution_count": null,
      "metadata": {
        "colab": {
          "base_uri": "https://localhost:8080/",
          "height": 369
        },
        "id": "l-w0mdPzaml9",
        "outputId": "99d1a6a6-341d-48a6-bead-54b2fbd01bdc"
      },
      "outputs": [],
      "source": [
        "import pandas as pd\n",
        "import numpy as np\n",
        "from tensorflow.keras.models import load_model\n",
        "from sklearn.metrics import confusion_matrix\n",
        "import seaborn as sns\n",
        "import matplotlib.pyplot as plt\n",
        "\n",
        "model = load_model('/content/best2_model.h5')\n",
        "y_train_pred = model.predict(X_train)\n",
        "y_test_pred = model.predict(X_test)\n",
        "\n",
        "# Convert predicted values to binary values using threshold of 0.5\n",
        "y_test_pred = np.where(y_test_pred >= 0.5, 1, 0)\n",
        "\n",
        "# Generate confusion matrix\n",
        "cm = confusion_matrix(y_test, y_test_pred)\n",
        "\n",
        "# Plot confusion matrix as heatmap\n",
        "df_cm = pd.DataFrame(cm, index=[i for i in [\"1\",'0']], columns=[i for i in [\"1\",\"0\"]])\n",
        "plt.figure(figsize=(4,3))\n",
        "sns.heatmap(df_cm, annot=True, fmt='g')\n",
        "plt.xlabel('Predicted label')\n",
        "plt.ylabel('True label')\n",
        "plt.title('Confusion Matrix')\n",
        "plt.show()"
      ]
    },
    {
      "cell_type": "code",
      "execution_count": null,
      "metadata": {
        "colab": {
          "base_uri": "https://localhost:8080/"
        },
        "id": "EEFi0hI3apmZ",
        "outputId": "b8d2d45a-437a-4d8a-9e47-ebb885e3adfa"
      },
      "outputs": [],
      "source": [
        "from sklearn.metrics import confusion_matrix, matthews_corrcoef\n",
        "tn, fp, fn, tp = confusion_matrix(y_test, y_test_pred).ravel()\n",
        "acc= (tp+tn)/ (tp+tn+fp+fn)\n",
        "pre= tp/(fp+tp)\n",
        "rec=tp/(fn+tp)\n",
        "f1 = 2*pre*rec/(pre+rec)\n",
        "specificity = tn / (tn + fp)\n",
        "fpr = fp / (tn + fp)\n",
        "fnr = fn / (fn + tp)\n",
        "npv = tn / (tn + fn)\n",
        "fdr = fp / (fp + tp)\n",
        "mcc = matthews_corrcoef(y_test, y_test_pred)\n",
        "print('ResNet50 Model additional performance metrics for Test set')\n",
        "print('- Accuracy: {:.4f}'.format(acc))\n",
        "print('- Precision: {:.4f}'.format(pre))\n",
        "print('- Recall: {:.4f}'.format(rec))\n",
        "print('- Specificity: {:.4f}'.format(specificity))\n",
        "print('- F1 score: {:.4f}'.format(f1))\n",
        "print('- FPR: {:.4f}'.format(fpr))\n",
        "print('- FNR: {:.4f}'.format(fnr))\n",
        "print('- NPV: {:.4f}'.format(npv))\n",
        "print('- FDR: {:.4f}'.format(fdr))\n",
        "print('- MCC: {:.4f}'.format(mcc))"
      ]
    },
    {
      "cell_type": "code",
      "execution_count": null,
      "metadata": {
        "colab": {
          "base_uri": "https://localhost:8080/"
        },
        "id": "dSuVFp5iy_Rr",
        "outputId": "4a88f85c-8d2b-4547-c3a2-5386a0f08973"
      },
      "outputs": [],
      "source": [
        "from tensorflow.keras.applications.resnet_v2 import ResNet101V2\n",
        "\n",
        "base_Neural_Net= ResNet101V2(input_shape=(240,240,3), weights='imagenet', include_top=False)\n",
        "model=Sequential()\n",
        "model.add(base_Neural_Net)\n",
        "model.add(Flatten())\n",
        "model.add(BatchNormalization())\n",
        "model.add(Dense(256,kernel_initializer='he_uniform'))\n",
        "model.add(BatchNormalization())\n",
        "model.add(Activation('relu'))\n",
        "model.add(Dropout(0.5))\n",
        "model.add(Dense(1,activation='sigmoid'))\n",
        "\n",
        "for layer in base_Neural_Net.layers:\n",
        "    layer.trainable = False\n",
        "\n",
        "\n",
        "model.compile(\n",
        "    loss='binary_crossentropy',\n",
        "    optimizer='adam',\n",
        "    metrics=['accuracy']\n",
        ")\n",
        "\n",
        "model.summary()\n"
      ]
    },
    {
      "cell_type": "code",
      "execution_count": null,
      "metadata": {
        "colab": {
          "base_uri": "https://localhost:8080/"
        },
        "id": "jG7U2s1OzsdP",
        "outputId": "dfbbaf55-3767-49f8-aef6-e53fb019c051"
      },
      "outputs": [],
      "source": [
        "from keras.callbacks import ModelCheckpoint, EarlyStopping\n",
        "\n",
        "# Set up ModelCheckpoint to save the best model based on validation accuracy\n",
        "checkpoint = ModelCheckpoint('best3_model.h5', monitor='val_accuracy', save_best_only=True, mode='max', verbose=1)\n",
        "early_stop = EarlyStopping(monitor='val_loss', patience=3, verbose=1, mode='auto')\n",
        "\n",
        "# Train the model with checkpoint\n",
        "history = model.fit(X_train, y_train, epochs=10, batch_size=32, validation_data=(X_val, y_val), callbacks=[checkpoint,early_stop])\n",
        "\n",
        "# Load the best model\n",
        "model.load_weights('best3_model.h5')"
      ]
    },
    {
      "cell_type": "code",
      "execution_count": null,
      "metadata": {
        "colab": {
          "base_uri": "https://localhost:8080/",
          "height": 452
        },
        "id": "gzabZaDlIjWo",
        "outputId": "27c9a03d-bc3f-43e7-8e62-7b7113bbea5d"
      },
      "outputs": [],
      "source": [
        "h = history.history\n",
        "plt.plot(h['accuracy'], label = 'accuracy')\n",
        "plt.plot(h['val_accuracy'], label = 'val-accuracy')\n",
        "plt.title('Accuracy vs Val Accuracy')\n",
        "plt.legend()\n",
        "plt.show()"
      ]
    },
    {
      "cell_type": "code",
      "execution_count": null,
      "metadata": {
        "colab": {
          "base_uri": "https://localhost:8080/",
          "height": 452
        },
        "id": "M1o9vrf4IpWq",
        "outputId": "1a168d37-7e7e-4d55-c0d5-cff91564b90d"
      },
      "outputs": [],
      "source": [
        "#Plot the graphical interpretation\n",
        "h = history.history\n",
        "plt.plot(h['loss'], label = 'loss')\n",
        "plt.plot(h['val_loss'], label = 'val-loss')\n",
        "plt.title('Loss vs Val Loss')\n",
        "plt.legend()\n",
        "plt.show()"
      ]
    },
    {
      "cell_type": "code",
      "execution_count": null,
      "metadata": {
        "colab": {
          "base_uri": "https://localhost:8080/"
        },
        "id": "_LUjtbb2ItD3",
        "outputId": "d899f12e-c8ee-4a07-cb3d-b2c375c5e035"
      },
      "outputs": [],
      "source": [
        "#Test our model on the test set\n",
        "from keras.models import load_model\n",
        "model = load_model('/content/best3_model.h5')\n",
        "acc = model.evaluate(X_test, y_test)[1]\n",
        "print(f'The accuracy of our model is {acc}')"
      ]
    },
    {
      "cell_type": "code",
      "execution_count": null,
      "metadata": {
        "colab": {
          "base_uri": "https://localhost:8080/"
        },
        "id": "h7_fyZUwIzHy",
        "outputId": "d75d0419-c075-4826-c3bd-35c9accb4e05"
      },
      "outputs": [],
      "source": [
        "from PIL import Image\n",
        "import numpy as np\n",
        "import tensorflow as tf\n",
        "\n",
        "# Choose a MRI image with tumor\n",
        "path = \"/content/aug_data/yes/aug_Y81_0_4331.jpg\"\n",
        "img_yes = Image.open(path).resize((240,240))\n",
        "img_array_yes = np.array(img_yes)/255\n",
        "img_array_yes = np.expand_dims(img_array_yes, axis=0)\n",
        "\n",
        "# Load the trained model\n",
        "model = tf.keras.models.load_model('best3_model.h5')\n",
        "\n",
        "# Make a prediction on the image\n",
        "prediction1 = model.predict(img_array_yes)\n",
        "class1 = np.round(prediction1).astype(int)\n",
        "if class1 == 0:\n",
        "  print(\"The MRI image doesn't have a Tumor\")\n",
        "else:\n",
        "  print(\"The MRI image has a tumor\")"
      ]
    },
    {
      "cell_type": "code",
      "execution_count": null,
      "metadata": {
        "colab": {
          "base_uri": "https://localhost:8080/"
        },
        "id": "xoZ1tX2gI6Eg",
        "outputId": "aef4e68b-4528-41da-fd5f-e968f16d8c2f"
      },
      "outputs": [],
      "source": [
        "from PIL import Image\n",
        "\n",
        "# Choose an MRI image without tumor\n",
        "path = \"/content/aug_data/no/aug_14 no_0_9400.jpg\"\n",
        "img_no = Image.open(path).resize((240, 240))\n",
        "img_array_no = np.array(img_no)/255\n",
        "img_array_no = np.expand_dims(img_array_no, axis=0)\n",
        "prediction2 = model.predict(img_array_no)\n",
        "class2 = np.round(prediction2).astype(int)\n",
        "if class2 == 0:\n",
        "    print(\"The MRI image doesn't have a tumor\")\n",
        "else:\n",
        "    print(\"The MRI image has a tumor\")"
      ]
    },
    {
      "cell_type": "code",
      "execution_count": null,
      "metadata": {
        "colab": {
          "base_uri": "https://localhost:8080/",
          "height": 369
        },
        "id": "2QLtKsKAI9d6",
        "outputId": "bdb99add-5aad-44da-e8c1-296dc4811f53"
      },
      "outputs": [],
      "source": [
        "import pandas as pd\n",
        "import numpy as np\n",
        "from tensorflow.keras.models import load_model\n",
        "from sklearn.metrics import confusion_matrix\n",
        "import seaborn as sns\n",
        "import matplotlib.pyplot as plt\n",
        "\n",
        "model = load_model('/content/best3_model.h5')\n",
        "y_train_pred = model.predict(X_train)\n",
        "y_test_pred = model.predict(X_test)\n",
        "\n",
        "# Convert predicted values to binary values using threshold of 0.5\n",
        "y_test_pred = np.where(y_test_pred >= 0.5, 1, 0)\n",
        "\n",
        "# Generate confusion matrix\n",
        "cm = confusion_matrix(y_test, y_test_pred)\n",
        "\n",
        "# Plot confusion matrix as heatmap\n",
        "df_cm = pd.DataFrame(cm, index=[i for i in [\"1\",'0']], columns=[i for i in [\"1\",\"0\"]])\n",
        "plt.figure(figsize=(4,3))\n",
        "sns.heatmap(df_cm, annot=True, fmt='g')\n",
        "plt.xlabel('Predicted label')\n",
        "plt.ylabel('True label')\n",
        "plt.title('Confusion Matrix')\n",
        "plt.show()"
      ]
    },
    {
      "cell_type": "code",
      "execution_count": null,
      "metadata": {
        "colab": {
          "base_uri": "https://localhost:8080/"
        },
        "id": "VkynxqB_JBVW",
        "outputId": "469bc87b-5d0e-4d65-c20a-00124a1e2605"
      },
      "outputs": [],
      "source": [
        "from sklearn.metrics import confusion_matrix, matthews_corrcoef\n",
        "tn, fp, fn, tp = confusion_matrix(y_test, y_test_pred).ravel()\n",
        "acc= (tp+tn)/ (tp+tn+fp+fn)\n",
        "pre= tp/(fp+tp)\n",
        "rec=tp/(fn+tp)\n",
        "f1 = 2*pre*rec/(pre+rec)\n",
        "specificity = tn / (tn + fp)\n",
        "fpr = fp / (tn + fp)\n",
        "fnr = fn / (fn + tp)\n",
        "npv = tn / (tn + fn)\n",
        "fdr = fp / (fp + tp)\n",
        "mcc = matthews_corrcoef(y_test, y_test_pred)\n",
        "print('ResNet101 v2 Model additional performance metrics for Test set')\n",
        "print('- Accuracy: {:.4f}'.format(acc))\n",
        "print('- Precision: {:.4f}'.format(pre))\n",
        "print('- Recall: {:.4f}'.format(rec))\n",
        "print('- Specificity: {:.4f}'.format(specificity))\n",
        "print('- F1 score: {:.4f}'.format(f1))\n",
        "print('- FPR: {:.4f}'.format(fpr))\n",
        "print('- FNR: {:.4f}'.format(fnr))\n",
        "print('- NPV: {:.4f}'.format(npv))\n",
        "print('- FDR: {:.4f}'.format(fdr))\n",
        "print('- MCC: {:.4f}'.format(mcc))"
      ]
    },
    {
      "cell_type": "code",
      "execution_count": null,
      "metadata": {
        "colab": {
          "base_uri": "https://localhost:8080/",
          "height": 487
        },
        "id": "pHS_Ur5zQpEx",
        "outputId": "fa9865b0-2538-438b-af37-d7e14628e8b5"
      },
      "outputs": [],
      "source": [
        "import matplotlib.pyplot as plt\n",
        "\n",
        "# Define a list of model names and their corresponding accuracy values\n",
        "model_names = ['CNN', 'VGG16', 'VGG19', 'MOBILENET V2','RESNET50','RESNET101 V2']\n",
        "accuracy_values = [0.9097, 0.9799, 0.985, 0.9924,0.9323,0.9924]\n",
        "\n",
        "fig, ax = plt.subplots(figsize=(10, 5))\n",
        "\n",
        "# Plot the graph\n",
        "barplot = ax.bar(model_names, accuracy_values,width=0.5)\n",
        "ax.set_title('Model Accuracy Comparison')\n",
        "ax.set_xlabel('Model Name')\n",
        "ax.set_ylabel('Accuracy')\n",
        "ax.set_ylim(0.8, 1.0)\n",
        "\n",
        "# Add the accuracy values above the bars\n",
        "for bar, acc in zip(barplot, accuracy_values):\n",
        "    ax.text(bar.get_x() + bar.get_width()/2, bar.get_height()+0.001, f'{acc:.3f}', ha='center')\n",
        "plt.show()\n"
      ]
    }
  ],
  "metadata": {
    "colab": {
      "provenance": []
    },
    "kernelspec": {
      "display_name": "Python 3",
      "name": "python3"
    },
    "language_info": {
      "name": "python"
    }
  },
  "nbformat": 4,
  "nbformat_minor": 0
}
